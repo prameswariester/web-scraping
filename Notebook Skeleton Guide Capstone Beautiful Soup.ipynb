{
 "cells": [
  {
   "cell_type": "markdown",
   "metadata": {},
   "source": [
    "# Capstone Webscrapping using BeautifulSoup\n",
    "\n",
    "This notebook contains guidances & tasks on the data processing for the application\n",
    "\n",
    "## background\n",
    "\n",
    "(Please insert the background here )\n",
    "\n",
    "## Requesting the Data and Creating a BeautifulSoup\n",
    "\n",
    "Let's begin with requesting the web from the site with `get` method."
   ]
  },
  {
   "cell_type": "code",
   "execution_count": 36,
   "metadata": {
    "ExecuteTime": {
     "end_time": "2020-01-13T05:12:23.275508Z",
     "start_time": "2020-01-13T05:12:20.009898Z"
    }
   },
   "outputs": [],
   "source": [
    "import requests\n",
    "\n",
    "url_get = requests.get('https://www.imdb.com/search/title/?release_date=2021-01-01,2021-12-31')"
   ]
  },
  {
   "cell_type": "markdown",
   "metadata": {},
   "source": [
    "To visualize what exactly you get from the `request.get`, we can use .content so ee what we exactly get, in here i slice it so it won't make our screen full of the html we get from the page. You can delete the slicing if you want to see what we fully get."
   ]
  },
  {
   "cell_type": "code",
   "execution_count": 37,
   "metadata": {
    "ExecuteTime": {
     "end_time": "2020-01-13T05:12:23.290648Z",
     "start_time": "2020-01-13T05:12:23.277650Z"
    }
   },
   "outputs": [
    {
     "data": {
      "text/plain": [
       "b'\\n<!DOCTYPE html>\\n<html\\n    xmlns:og=\"http://ogp.me/ns#\"\\n    xmlns:fb=\"http://www.facebook.com/2008/fbml\">\\n    <head>\\n         \\n\\n        <meta charset=\"utf-8\">\\n        <meta http-equiv=\"X-UA-Compatible\" content=\"IE=edge\">\\n\\n\\n\\n\\n        <script type=\"text/javascript\">var IMDbTimer={starttime: new Date().getTime(),pt:\\'java\\'};</script>\\n\\n<script>\\n    if (typeof uet == \\'function\\') {\\n      uet(\"bb\", \"LoadTitle\", {wb: 1});\\n    }\\n</script>\\n  <script>(function(t){ (t.events = t.events || {})[\"csm_head_pre_'"
      ]
     },
     "execution_count": 37,
     "metadata": {},
     "output_type": "execute_result"
    }
   ],
   "source": [
    "url_get.content[1:500]"
   ]
  },
  {
   "cell_type": "markdown",
   "metadata": {},
   "source": [
    "As we can see we get a very unstructured and complex html, which actually contains the codes needed to show the webpages on your web browser. But we as human still confused what and where we can use that piece of code, so here where we use the beautifulsoup. Beautiful soup class will result a beautifulsoup object. Beautiful Soup transforms a complex HTML document into a complex tree of Python objects. \n",
    "\n",
    "Let's make Beautiful soup object and feel free to explore the object here."
   ]
  },
  {
   "cell_type": "code",
   "execution_count": 38,
   "metadata": {
    "ExecuteTime": {
     "end_time": "2020-01-13T05:12:23.808122Z",
     "start_time": "2020-01-13T05:12:23.292610Z"
    }
   },
   "outputs": [],
   "source": [
    "from bs4 import BeautifulSoup \n",
    "\n",
    "soup = BeautifulSoup(url_get.content,\"html.parser\")"
   ]
  },
  {
   "cell_type": "markdown",
   "metadata": {},
   "source": [
    "## Finding the right key to scrap the data & Extracting the right information"
   ]
  },
  {
   "cell_type": "markdown",
   "metadata": {},
   "source": [
    "Find the key and put the key into the `.find()` Put all the exploring the right key at this cell. (please change this markdown with your explanation)"
   ]
  },
  {
   "cell_type": "code",
   "execution_count": 39,
   "metadata": {
    "ExecuteTime": {
     "end_time": "2020-01-13T05:12:23.878904Z",
     "start_time": "2020-01-13T05:12:23.854974Z"
    }
   },
   "outputs": [
    {
     "name": "stdout",
     "output_type": "stream",
     "text": [
      "div class=\"lister list detail sub-list\">\n",
      " <div class=\"lister-list\">\n",
      "  <div class=\"lister-item mode-advanced\">\n",
      "   <div class=\"lister-top-right\">\n",
      "    <div class=\"ribbonize\" data-caller=\"filmosearch\" data-tconst=\"tt9032400\">\n",
      "    </div>\n",
      "   </div>\n",
      "   <div class=\"lister-item-image float-left\">\n",
      "    <a href=\"/title/tt9032400/\">\n",
      "     <img alt=\"Eternals\" class=\"loadlate\" data-tconst=\"tt9032400\" height=\"98\" loadlate=\"https://m.media-amazon.com/images/M/MV5BMTExZmVjY2ItYTAzYi00MDdlLWFlOWItNTJhMDRjMzQ5ZGY0X\n"
     ]
    }
   ],
   "source": [
    "table = soup.find('div',{'class':'lister list detail sub-list'})\n",
    "print(table.prettify()[1:500])"
   ]
  },
  {
   "cell_type": "markdown",
   "metadata": {},
   "source": [
    "Finding row length."
   ]
  },
  {
   "cell_type": "markdown",
   "metadata": {},
   "source": [
    "Do the scrapping process here (please change this markdown with your explanation)"
   ]
  },
  {
   "cell_type": "code",
   "execution_count": 40,
   "metadata": {},
   "outputs": [],
   "source": [
    "row = table.find_all('div',attrs={'class':'lister-item mode-advanced'})"
   ]
  },
  {
   "cell_type": "code",
   "execution_count": 41,
   "metadata": {
    "ExecuteTime": {
     "end_time": "2020-01-13T05:12:24.008256Z",
     "start_time": "2020-01-13T05:12:23.980358Z"
    }
   },
   "outputs": [
    {
     "data": {
      "text/plain": [
       "[('Eternals', '6.9', '53', '53550'),\n",
       " ('Dune: Part One', '8.2', '74', '291461'),\n",
       " ('Army of Thieves', '6.4', '49', '29287'),\n",
       " ('The Harder They Fall', '6.5', '68', '17813'),\n",
       " ('Squid Game', '8.1', '0', '288302'),\n",
       " ('Last Night in Soho', '7.5', '65', '16340'),\n",
       " ('No Time to Die', '7.5', '68', '148867'),\n",
       " ('Finch', '7.0', '56', '15902'),\n",
       " ('The French Dispatch', '7.5', '74', '16865'),\n",
       " ('Maid', '8.5', '0', '40594'),\n",
       " ('Halloween Kills', '5.7', '42', '53212'),\n",
       " ('Midnight Mass', '7.7', '0', '69809'),\n",
       " ('Army of the Dead', '5.8', '57', '147512'),\n",
       " ('Invasion', '5.8', '0', '8318'),\n",
       " ('Foundation', '7.3', '0', '24766'),\n",
       " ('House of Gucci', '0.0', '0', '0'),\n",
       " ('Hypnotic', '5.2', '32', '8076'),\n",
       " ('The Book of Boba Fett', '0.0', '0', '0'),\n",
       " ('Free Guy', '7.2', '62', '190693'),\n",
       " ('Venom: Let There Be Carnage', '6.3', '48', '58042'),\n",
       " ('The Last Duel', '7.7', '67', '20622'),\n",
       " ('Dopesick', '8.8', '0', '5705'),\n",
       " ('Antlers', '6.4', '57', '4217'),\n",
       " ('Spencer', '7.2', '78', '3307'),\n",
       " ('The Wheel of Time', '0.0', '0', '0'),\n",
       " ('Spider-Man: No Way Home', '0.0', '0', '0'),\n",
       " ('Only Murders in the Building', '8.2', '0', '38583'),\n",
       " ('Ghostbusters: Afterlife', '7.8', '61', '486'),\n",
       " ('Chucky', '7.5', '0', '6197'),\n",
       " ('Inside Job', '7.7', '0', '5897'),\n",
       " ('Red Notice', '7.0', '39', '1271'),\n",
       " ('Dexter: New Blood', '9.5', '0', '2653'),\n",
       " ('Old', '5.8', '55', '63477'),\n",
       " ('Paranormal Activity: Next of Kin', '5.2', '37', '4511'),\n",
       " ('Shang-Chi and the Legend of the Ten Rings', '7.9', '71', '121836'),\n",
       " ('Lamb(II) ', '6.4', '69', '7906'),\n",
       " ('Apex', '0.0', '0', '0'),\n",
       " ('Jai Bhim', '9.6', '0', '51638'),\n",
       " ('Black Widow', '6.8', '67', '267795'),\n",
       " ('The Suicide Squad', '7.3', '72', '240520'),\n",
       " ('Cowboy Bebop', '0.0', '0', '0'),\n",
       " ('Dangerous(III) ', '5.1', '30', '727'),\n",
       " ('Night Teeth', '5.6', '42', '11182'),\n",
       " ('Colin in Black & White', '4.5', '0', '4297'),\n",
       " ('The Chestnut Man', '7.8', '0', '24904'),\n",
       " ('Love Hard', '6.5', '48', '6846'),\n",
       " ('The Long Call', '6.4', '0', '1043'),\n",
       " ('The Guilty', '6.3', '63', '81840'),\n",
       " ('The Black Phone', '8.1', '79', '346'),\n",
       " ('The Many Saints of Newark', '6.4', '60', '33690')]"
      ]
     },
     "execution_count": 41,
     "metadata": {},
     "output_type": "execute_result"
    }
   ],
   "source": [
    "temp = []\n",
    "\n",
    "for item in row:\n",
    "\n",
    "    title = item.find_all('h3',attrs={'class':'lister-item-header'})[0].text[3:]\n",
    "    title = title.replace('\\n','').replace('(2021)','').replace('(2021– )','').replace('.','')\n",
    "    \n",
    "    try:\n",
    "    #get volume\n",
    "        imdb = item.find_all('div',attrs={'class' : 'inline-block ratings-imdb-rating'})[0].text\n",
    "        imdb = imdb.replace('\\n','')\n",
    "    except:\n",
    "        imdb ='0.0'\n",
    "        \n",
    "    try:\n",
    "        metascore = item.find_all('div',attrs={'class' : 'ratings-metascore'})[0].text\n",
    "        metascore = metascore.replace('\\n','').replace('Metascore','').replace('                            ','')\n",
    "    except:\n",
    "        metascore = '0'\n",
    "    \n",
    "    try:\n",
    "    #scrapping process, menampilkan text yang ada di website\n",
    "        votes = item.find_all('span',attrs={'name':'nv'})[0].text\n",
    "        votes = votes.replace(',','')\n",
    "    except:\n",
    "        votes = '0'\n",
    "        \n",
    "    temp.append((title,imdb,metascore,votes))    \n",
    "temp"
   ]
  },
  {
   "cell_type": "markdown",
   "metadata": {},
   "source": [
    "## Creating data frame & Data wrangling"
   ]
  },
  {
   "cell_type": "markdown",
   "metadata": {},
   "source": [
    "Put the array into dataframe"
   ]
  },
  {
   "cell_type": "code",
   "execution_count": 42,
   "metadata": {
    "ExecuteTime": {
     "end_time": "2020-01-13T05:12:41.517372Z",
     "start_time": "2020-01-13T05:12:29.130015Z"
    }
   },
   "outputs": [
    {
     "data": {
      "text/html": [
       "<div>\n",
       "<style scoped>\n",
       "    .dataframe tbody tr th:only-of-type {\n",
       "        vertical-align: middle;\n",
       "    }\n",
       "\n",
       "    .dataframe tbody tr th {\n",
       "        vertical-align: top;\n",
       "    }\n",
       "\n",
       "    .dataframe thead th {\n",
       "        text-align: right;\n",
       "    }\n",
       "</style>\n",
       "<table border=\"1\" class=\"dataframe\">\n",
       "  <thead>\n",
       "    <tr style=\"text-align: right;\">\n",
       "      <th></th>\n",
       "      <th>title</th>\n",
       "      <th>metascore</th>\n",
       "      <th>imdb</th>\n",
       "      <th>votes</th>\n",
       "    </tr>\n",
       "  </thead>\n",
       "  <tbody>\n",
       "    <tr>\n",
       "      <th>0</th>\n",
       "      <td>Eternals</td>\n",
       "      <td>6.9</td>\n",
       "      <td>53</td>\n",
       "      <td>53550</td>\n",
       "    </tr>\n",
       "    <tr>\n",
       "      <th>1</th>\n",
       "      <td>Dune: Part One</td>\n",
       "      <td>8.2</td>\n",
       "      <td>74</td>\n",
       "      <td>291461</td>\n",
       "    </tr>\n",
       "    <tr>\n",
       "      <th>2</th>\n",
       "      <td>Army of Thieves</td>\n",
       "      <td>6.4</td>\n",
       "      <td>49</td>\n",
       "      <td>29287</td>\n",
       "    </tr>\n",
       "    <tr>\n",
       "      <th>3</th>\n",
       "      <td>The Harder They Fall</td>\n",
       "      <td>6.5</td>\n",
       "      <td>68</td>\n",
       "      <td>17813</td>\n",
       "    </tr>\n",
       "    <tr>\n",
       "      <th>4</th>\n",
       "      <td>Squid Game</td>\n",
       "      <td>8.1</td>\n",
       "      <td>0</td>\n",
       "      <td>288302</td>\n",
       "    </tr>\n",
       "    <tr>\n",
       "      <th>5</th>\n",
       "      <td>Last Night in Soho</td>\n",
       "      <td>7.5</td>\n",
       "      <td>65</td>\n",
       "      <td>16340</td>\n",
       "    </tr>\n",
       "    <tr>\n",
       "      <th>6</th>\n",
       "      <td>No Time to Die</td>\n",
       "      <td>7.5</td>\n",
       "      <td>68</td>\n",
       "      <td>148867</td>\n",
       "    </tr>\n",
       "    <tr>\n",
       "      <th>7</th>\n",
       "      <td>Finch</td>\n",
       "      <td>7.0</td>\n",
       "      <td>56</td>\n",
       "      <td>15902</td>\n",
       "    </tr>\n",
       "    <tr>\n",
       "      <th>8</th>\n",
       "      <td>The French Dispatch</td>\n",
       "      <td>7.5</td>\n",
       "      <td>74</td>\n",
       "      <td>16865</td>\n",
       "    </tr>\n",
       "    <tr>\n",
       "      <th>9</th>\n",
       "      <td>Maid</td>\n",
       "      <td>8.5</td>\n",
       "      <td>0</td>\n",
       "      <td>40594</td>\n",
       "    </tr>\n",
       "    <tr>\n",
       "      <th>10</th>\n",
       "      <td>Halloween Kills</td>\n",
       "      <td>5.7</td>\n",
       "      <td>42</td>\n",
       "      <td>53212</td>\n",
       "    </tr>\n",
       "    <tr>\n",
       "      <th>11</th>\n",
       "      <td>Midnight Mass</td>\n",
       "      <td>7.7</td>\n",
       "      <td>0</td>\n",
       "      <td>69809</td>\n",
       "    </tr>\n",
       "    <tr>\n",
       "      <th>12</th>\n",
       "      <td>Army of the Dead</td>\n",
       "      <td>5.8</td>\n",
       "      <td>57</td>\n",
       "      <td>147512</td>\n",
       "    </tr>\n",
       "    <tr>\n",
       "      <th>13</th>\n",
       "      <td>Invasion</td>\n",
       "      <td>5.8</td>\n",
       "      <td>0</td>\n",
       "      <td>8318</td>\n",
       "    </tr>\n",
       "    <tr>\n",
       "      <th>14</th>\n",
       "      <td>Foundation</td>\n",
       "      <td>7.3</td>\n",
       "      <td>0</td>\n",
       "      <td>24766</td>\n",
       "    </tr>\n",
       "    <tr>\n",
       "      <th>15</th>\n",
       "      <td>House of Gucci</td>\n",
       "      <td>0.0</td>\n",
       "      <td>0</td>\n",
       "      <td>0</td>\n",
       "    </tr>\n",
       "    <tr>\n",
       "      <th>16</th>\n",
       "      <td>Hypnotic</td>\n",
       "      <td>5.2</td>\n",
       "      <td>32</td>\n",
       "      <td>8076</td>\n",
       "    </tr>\n",
       "    <tr>\n",
       "      <th>17</th>\n",
       "      <td>The Book of Boba Fett</td>\n",
       "      <td>0.0</td>\n",
       "      <td>0</td>\n",
       "      <td>0</td>\n",
       "    </tr>\n",
       "    <tr>\n",
       "      <th>18</th>\n",
       "      <td>Free Guy</td>\n",
       "      <td>7.2</td>\n",
       "      <td>62</td>\n",
       "      <td>190693</td>\n",
       "    </tr>\n",
       "    <tr>\n",
       "      <th>19</th>\n",
       "      <td>Venom: Let There Be Carnage</td>\n",
       "      <td>6.3</td>\n",
       "      <td>48</td>\n",
       "      <td>58042</td>\n",
       "    </tr>\n",
       "    <tr>\n",
       "      <th>20</th>\n",
       "      <td>The Last Duel</td>\n",
       "      <td>7.7</td>\n",
       "      <td>67</td>\n",
       "      <td>20622</td>\n",
       "    </tr>\n",
       "    <tr>\n",
       "      <th>21</th>\n",
       "      <td>Dopesick</td>\n",
       "      <td>8.8</td>\n",
       "      <td>0</td>\n",
       "      <td>5705</td>\n",
       "    </tr>\n",
       "    <tr>\n",
       "      <th>22</th>\n",
       "      <td>Antlers</td>\n",
       "      <td>6.4</td>\n",
       "      <td>57</td>\n",
       "      <td>4217</td>\n",
       "    </tr>\n",
       "    <tr>\n",
       "      <th>23</th>\n",
       "      <td>Spencer</td>\n",
       "      <td>7.2</td>\n",
       "      <td>78</td>\n",
       "      <td>3307</td>\n",
       "    </tr>\n",
       "    <tr>\n",
       "      <th>24</th>\n",
       "      <td>The Wheel of Time</td>\n",
       "      <td>0.0</td>\n",
       "      <td>0</td>\n",
       "      <td>0</td>\n",
       "    </tr>\n",
       "    <tr>\n",
       "      <th>25</th>\n",
       "      <td>Spider-Man: No Way Home</td>\n",
       "      <td>0.0</td>\n",
       "      <td>0</td>\n",
       "      <td>0</td>\n",
       "    </tr>\n",
       "    <tr>\n",
       "      <th>26</th>\n",
       "      <td>Only Murders in the Building</td>\n",
       "      <td>8.2</td>\n",
       "      <td>0</td>\n",
       "      <td>38583</td>\n",
       "    </tr>\n",
       "    <tr>\n",
       "      <th>27</th>\n",
       "      <td>Ghostbusters: Afterlife</td>\n",
       "      <td>7.8</td>\n",
       "      <td>61</td>\n",
       "      <td>486</td>\n",
       "    </tr>\n",
       "    <tr>\n",
       "      <th>28</th>\n",
       "      <td>Chucky</td>\n",
       "      <td>7.5</td>\n",
       "      <td>0</td>\n",
       "      <td>6197</td>\n",
       "    </tr>\n",
       "    <tr>\n",
       "      <th>29</th>\n",
       "      <td>Inside Job</td>\n",
       "      <td>7.7</td>\n",
       "      <td>0</td>\n",
       "      <td>5897</td>\n",
       "    </tr>\n",
       "    <tr>\n",
       "      <th>30</th>\n",
       "      <td>Red Notice</td>\n",
       "      <td>7.0</td>\n",
       "      <td>39</td>\n",
       "      <td>1271</td>\n",
       "    </tr>\n",
       "    <tr>\n",
       "      <th>31</th>\n",
       "      <td>Dexter: New Blood</td>\n",
       "      <td>9.5</td>\n",
       "      <td>0</td>\n",
       "      <td>2653</td>\n",
       "    </tr>\n",
       "    <tr>\n",
       "      <th>32</th>\n",
       "      <td>Old</td>\n",
       "      <td>5.8</td>\n",
       "      <td>55</td>\n",
       "      <td>63477</td>\n",
       "    </tr>\n",
       "    <tr>\n",
       "      <th>33</th>\n",
       "      <td>Paranormal Activity: Next of Kin</td>\n",
       "      <td>5.2</td>\n",
       "      <td>37</td>\n",
       "      <td>4511</td>\n",
       "    </tr>\n",
       "    <tr>\n",
       "      <th>34</th>\n",
       "      <td>Shang-Chi and the Legend of the Ten Rings</td>\n",
       "      <td>7.9</td>\n",
       "      <td>71</td>\n",
       "      <td>121836</td>\n",
       "    </tr>\n",
       "    <tr>\n",
       "      <th>35</th>\n",
       "      <td>Lamb(II)</td>\n",
       "      <td>6.4</td>\n",
       "      <td>69</td>\n",
       "      <td>7906</td>\n",
       "    </tr>\n",
       "    <tr>\n",
       "      <th>36</th>\n",
       "      <td>Apex</td>\n",
       "      <td>0.0</td>\n",
       "      <td>0</td>\n",
       "      <td>0</td>\n",
       "    </tr>\n",
       "    <tr>\n",
       "      <th>37</th>\n",
       "      <td>Jai Bhim</td>\n",
       "      <td>9.6</td>\n",
       "      <td>0</td>\n",
       "      <td>51638</td>\n",
       "    </tr>\n",
       "    <tr>\n",
       "      <th>38</th>\n",
       "      <td>Black Widow</td>\n",
       "      <td>6.8</td>\n",
       "      <td>67</td>\n",
       "      <td>267795</td>\n",
       "    </tr>\n",
       "    <tr>\n",
       "      <th>39</th>\n",
       "      <td>The Suicide Squad</td>\n",
       "      <td>7.3</td>\n",
       "      <td>72</td>\n",
       "      <td>240520</td>\n",
       "    </tr>\n",
       "    <tr>\n",
       "      <th>40</th>\n",
       "      <td>Cowboy Bebop</td>\n",
       "      <td>0.0</td>\n",
       "      <td>0</td>\n",
       "      <td>0</td>\n",
       "    </tr>\n",
       "    <tr>\n",
       "      <th>41</th>\n",
       "      <td>Dangerous(III)</td>\n",
       "      <td>5.1</td>\n",
       "      <td>30</td>\n",
       "      <td>727</td>\n",
       "    </tr>\n",
       "    <tr>\n",
       "      <th>42</th>\n",
       "      <td>Night Teeth</td>\n",
       "      <td>5.6</td>\n",
       "      <td>42</td>\n",
       "      <td>11182</td>\n",
       "    </tr>\n",
       "    <tr>\n",
       "      <th>43</th>\n",
       "      <td>Colin in Black &amp; White</td>\n",
       "      <td>4.5</td>\n",
       "      <td>0</td>\n",
       "      <td>4297</td>\n",
       "    </tr>\n",
       "    <tr>\n",
       "      <th>44</th>\n",
       "      <td>The Chestnut Man</td>\n",
       "      <td>7.8</td>\n",
       "      <td>0</td>\n",
       "      <td>24904</td>\n",
       "    </tr>\n",
       "    <tr>\n",
       "      <th>45</th>\n",
       "      <td>Love Hard</td>\n",
       "      <td>6.5</td>\n",
       "      <td>48</td>\n",
       "      <td>6846</td>\n",
       "    </tr>\n",
       "    <tr>\n",
       "      <th>46</th>\n",
       "      <td>The Long Call</td>\n",
       "      <td>6.4</td>\n",
       "      <td>0</td>\n",
       "      <td>1043</td>\n",
       "    </tr>\n",
       "    <tr>\n",
       "      <th>47</th>\n",
       "      <td>The Guilty</td>\n",
       "      <td>6.3</td>\n",
       "      <td>63</td>\n",
       "      <td>81840</td>\n",
       "    </tr>\n",
       "    <tr>\n",
       "      <th>48</th>\n",
       "      <td>The Black Phone</td>\n",
       "      <td>8.1</td>\n",
       "      <td>79</td>\n",
       "      <td>346</td>\n",
       "    </tr>\n",
       "    <tr>\n",
       "      <th>49</th>\n",
       "      <td>The Many Saints of Newark</td>\n",
       "      <td>6.4</td>\n",
       "      <td>60</td>\n",
       "      <td>33690</td>\n",
       "    </tr>\n",
       "  </tbody>\n",
       "</table>\n",
       "</div>"
      ],
      "text/plain": [
       "                                        title metascore imdb   votes\n",
       "0                                    Eternals       6.9   53   53550\n",
       "1                              Dune: Part One       8.2   74  291461\n",
       "2                             Army of Thieves       6.4   49   29287\n",
       "3                        The Harder They Fall       6.5   68   17813\n",
       "4                                  Squid Game       8.1    0  288302\n",
       "5                          Last Night in Soho       7.5   65   16340\n",
       "6                              No Time to Die       7.5   68  148867\n",
       "7                                       Finch       7.0   56   15902\n",
       "8                         The French Dispatch       7.5   74   16865\n",
       "9                                        Maid       8.5    0   40594\n",
       "10                            Halloween Kills       5.7   42   53212\n",
       "11                              Midnight Mass       7.7    0   69809\n",
       "12                           Army of the Dead       5.8   57  147512\n",
       "13                                   Invasion       5.8    0    8318\n",
       "14                                 Foundation       7.3    0   24766\n",
       "15                             House of Gucci       0.0    0       0\n",
       "16                                   Hypnotic       5.2   32    8076\n",
       "17                      The Book of Boba Fett       0.0    0       0\n",
       "18                                   Free Guy       7.2   62  190693\n",
       "19                Venom: Let There Be Carnage       6.3   48   58042\n",
       "20                              The Last Duel       7.7   67   20622\n",
       "21                                   Dopesick       8.8    0    5705\n",
       "22                                    Antlers       6.4   57    4217\n",
       "23                                    Spencer       7.2   78    3307\n",
       "24                          The Wheel of Time       0.0    0       0\n",
       "25                    Spider-Man: No Way Home       0.0    0       0\n",
       "26               Only Murders in the Building       8.2    0   38583\n",
       "27                    Ghostbusters: Afterlife       7.8   61     486\n",
       "28                                     Chucky       7.5    0    6197\n",
       "29                                 Inside Job       7.7    0    5897\n",
       "30                                 Red Notice       7.0   39    1271\n",
       "31                          Dexter: New Blood       9.5    0    2653\n",
       "32                                        Old       5.8   55   63477\n",
       "33           Paranormal Activity: Next of Kin       5.2   37    4511\n",
       "34  Shang-Chi and the Legend of the Ten Rings       7.9   71  121836\n",
       "35                                  Lamb(II)        6.4   69    7906\n",
       "36                                       Apex       0.0    0       0\n",
       "37                                   Jai Bhim       9.6    0   51638\n",
       "38                                Black Widow       6.8   67  267795\n",
       "39                          The Suicide Squad       7.3   72  240520\n",
       "40                               Cowboy Bebop       0.0    0       0\n",
       "41                            Dangerous(III)        5.1   30     727\n",
       "42                                Night Teeth       5.6   42   11182\n",
       "43                     Colin in Black & White       4.5    0    4297\n",
       "44                           The Chestnut Man       7.8    0   24904\n",
       "45                                  Love Hard       6.5   48    6846\n",
       "46                              The Long Call       6.4    0    1043\n",
       "47                                 The Guilty       6.3   63   81840\n",
       "48                            The Black Phone       8.1   79     346\n",
       "49                  The Many Saints of Newark       6.4   60   33690"
      ]
     },
     "execution_count": 42,
     "metadata": {},
     "output_type": "execute_result"
    }
   ],
   "source": [
    "import pandas as pd\n",
    "\n",
    "df = pd.DataFrame(temp, columns = ('title','metascore','imdb','votes'))\n",
    "df"
   ]
  },
  {
   "cell_type": "markdown",
   "metadata": {},
   "source": [
    "Do the data cleaning here (please change this markdown with your explanation of what you do for data wrangling)"
   ]
  },
  {
   "cell_type": "code",
   "execution_count": 43,
   "metadata": {
    "ExecuteTime": {
     "end_time": "2020-01-13T05:12:59.165559Z",
     "start_time": "2020-01-13T05:12:58.910012Z"
    }
   },
   "outputs": [
    {
     "data": {
      "text/plain": [
       "metascore    float64\n",
       "imdb           int32\n",
       "votes          int32\n",
       "dtype: object"
      ]
     },
     "execution_count": 43,
     "metadata": {},
     "output_type": "execute_result"
    }
   ],
   "source": [
    "df['imdb'] = df['imdb'].astype('int')\n",
    "df['metascore'] = df['metascore'].astype('float')\n",
    "df['votes'] = df['votes'].astype('int')\n",
    "df=df.set_index('title')\n",
    "df.dtypes"
   ]
  },
  {
   "cell_type": "markdown",
   "metadata": {},
   "source": [
    "Data visualisation (please change this markdown with your explanation of what you do for data wrangling)"
   ]
  },
  {
   "cell_type": "markdown",
   "metadata": {},
   "source": [
    "Buatlah plot dari 7 film paling populer di tahun 2021 berdasarkan metascore"
   ]
  },
  {
   "cell_type": "code",
   "execution_count": 45,
   "metadata": {},
   "outputs": [
    {
     "data": {
      "text/plain": [
       "<AxesSubplot:xlabel='title'>"
      ]
     },
     "execution_count": 45,
     "metadata": {},
     "output_type": "execute_result"
    },
    {
     "data": {
      "image/png": "[encoded data removed]",
      "text/plain": [
       "<Figure size 432x288 with 1 Axes>"
      ]
     },
     "metadata": {
      "needs_background": "light"
     },
     "output_type": "display_data"
    }
   ],
   "source": [
    "#pd.pivot_table(data=df,\n",
    "#              index='title',\n",
    "#              values='metascore').sort_values('metascore', ascending=False).iloc[0:7,0:2]#.plot.bar()\n",
    "#plt.savefig('metascore.png',bbox_inches=\"tight\")\n",
    "\n",
    "df.iloc[:,0:1].sort_values('metascore', ascending=False).iloc[0:7,:].plot.bar()"
   ]
  },
  {
   "cell_type": "markdown",
   "metadata": {},
   "source": [
    "### Implementing your webscrapping to the flask dashboard\n",
    "\n",
    "- Copy paste all of your web scrapping process to the desired position on the `app.py`\n",
    "- Changing the title of the dasboard at `index.html`"
   ]
  },
  {
   "cell_type": "markdown",
   "metadata": {},
   "source": [
    "## Finishing This Notebook with Your Analysis and Conclusion\n",
    "\n",
    "First you can do start with making the data visualisation. "
   ]
  },
  {
   "cell_type": "code",
   "execution_count": null,
   "metadata": {
    "ExecuteTime": {
     "end_time": "2020-01-13T05:20:56.208237Z",
     "start_time": "2020-01-13T05:20:56.076043Z"
    }
   },
   "outputs": [],
   "source": []
  },
  {
   "cell_type": "markdown",
   "metadata": {},
   "source": [
    "\n",
    "(Put your analysis and conclusion here.)"
   ]
  },
  {
   "cell_type": "markdown",
   "metadata": {},
   "source": [
    "### Extra Challange\n",
    "\n",
    "This will be not included to the scoring. \n",
    "\n",
    "- You can create additional analysis from the data.\n",
    "- Implement it to the dashboard with at `app.py` dan `index.html`."
   ]
  }
 ],
 "metadata": {
  "interpreter": {
   "hash": "3e81b730be114218456f67ee70895ce4355e325f64f7eb2736494d2758a25354"
  },
  "kernelspec": {
   "display_name": "Python 3",
   "language": "python",
   "name": "python3"
  },
  "language_info": {
   "codemirror_mode": {
    "name": "ipython",
    "version": 3
   },
   "file_extension": ".py",
   "mimetype": "text/x-python",
   "name": "python",
   "nbconvert_exporter": "python",
   "pygments_lexer": "ipython3",
   "version": "3.9.7"
  }
 },
 "nbformat": 4,
 "nbformat_minor": 2
}
